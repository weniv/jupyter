{
  "cells": [
    {
      "attachments": {},
      "cell_type": "markdown",
      "metadata": {
        "tags": []
      },
      "source": [
        "# 위니브 노트북 가이드"
      ]
    },
    {
      "cell_type": "markdown",
      "metadata": {},
      "source": [
        "* JS 전역 변수는 `var` 키워드를 사용합니다. let이나 const로 선언하면 해당 셀에서만 유효한 변수가 됩니다.\n",
        "\n",
        "* 작업한 파일은 수집되지 않습니다. 해당 브라우저에만 저장됩니다.\n",
        "\n",
        "* pandas를 실행할 때 나오는 경고는 무시해도 됩니다. 다만 경고를 보고 싶지 않다면 다음 코드를 사용하세요.\n",
        "```python\n",
        "import warnings\n",
        "warnings.filterwarnings('ignore')\n",
        "```\n",
        "\n",
        "* 설치된 모듈 확인은 아래와 같이 할 수 있습니다.\n",
        "```python\n",
        "from micropip import list as micropip_list\n",
        "micropip_list()\n",
        "```\n",
        "\n",
        "* 모듈 설치는 아래와 같이 할 수 있습니다. 일부 모듈이 작동하지 않을 수 있습니다.\n",
        "```python\n",
        "import piplite\n",
        "piplite.install('package_name')\n",
        "```\n",
        "\n",
        "* http 요청에는 제한이 있습니다. requests, pd.read_html 등을 여기서는 사용하지 못합니다. 아래 코드를 사용해주세요.\n",
        "```python\n",
        "from pyodide.http import pyfetch\n",
        "from bs4 import BeautifulSoup\n",
        "import asyncio\n",
        "\n",
        "async def get_html(url):\n",
        "    response = await pyfetch(url)\n",
        "    return await response.string()\n",
        "\n",
        "# HTML 가져오기\n",
        "html = await get_html('https://paullab.co.kr/stock.html')\n",
        "\n",
        "# BeautifulSoup으로 파싱\n",
        "soup = BeautifulSoup(html, 'html.parser')\n",
        "\n",
        "# 예시: 테이블 데이터 가져오기\n",
        "tables = soup.find_all('table')\n",
        "tables[0]\n",
        "```\n",
        "\n",
        "```python\n",
        "from pyodide.http import pyfetch\n",
        "import pandas as pd\n",
        "\n",
        "async def get_html(url):\n",
        "    response = await pyfetch(url)\n",
        "    return await response.string()\n",
        "\n",
        "# HTML 가져오기\n",
        "html = await get_html('https://paullab.co.kr/stock.html')\n",
        "\n",
        "# pandas로 파싱\n",
        "df = pd.read_html(html)\n",
        "\n",
        "df\n",
        "```\n",
        "\n",
        "* 초기화는 아래와 같이 할 수 있습니다.\n",
        "```\n",
        "개발자 도구 > Application > Storage > IndexedDB > JupyterLite Storage > Delete database\n",
        "```"
      ]
    },
    {
      "cell_type": "markdown",
      "metadata": {},
      "source": [
        "# 위니브 서비스"
      ]
    },
    {
      "cell_type": "markdown",
      "metadata": {},
      "source": [
        "* [위니브 메인 페이지](https://weniv.co.kr/)\n",
        "\n",
        "* [위니북스](https://www.books.weniv.co.kr/)\n",
        "\n",
        "* [위니브 링크](https://weniv.link/)\n",
        "\n",
        "* [위니브 주피터 노트북](https://jupyter.weniv.co.kr/)\n",
        "\n",
        "* [위니브 노트북](https://notebook.weniv.co.kr/)\n",
        "\n",
        "* [위니브 타이머](https://time.weniv.co.kr/)\n",
        "\n",
        "* [위니브 캔버스](https://canvas.weniv.co.kr/)\n",
        "\n",
        "* [위니브 SQL](https://sql.weniv.co.kr/)\n",
        "\n",
        "* [파이알고](https://pyalgo.co.kr/)\n",
        "\n",
        "* [제이에스알고](https://jsalgo.co.kr/)\n",
        "\n",
        "* [파이알고100](https://100.pyalgo.co.kr/)\n",
        "\n",
        "* [제이에스알고100](https://100.jsalgo.co.kr/)\n",
        "\n",
        "* [제주코딩베이스캠프](https://jejucodingcamp.com/)\n",
        "\n",
        "* [제주알고리즘베이스캠프](https://jejualcam.co.kr/)\n",
        "\n",
        "* [제주 AI 컨퍼런스](https://jejuai.kr/)\n",
        "\n",
        "* [제주 웹 컨퍼런스](https://jejuweb.kr/)\n",
        "\n",
        "* [위니브 부트캠프](https://bootcamp.weniv.co.kr/camp)"
      ]
    }
  ],
  "metadata": {
    "kernelspec": {
      "display_name": "Python (Pyodide)",
      "language": "python",
      "name": "python"
    },
    "language_info": {
      "codemirror_mode": {
        "name": "python",
        "version": 3
      },
      "file_extension": ".py",
      "mimetype": "text/x-python",
      "name": "python",
      "nbconvert_exporter": "python",
      "pygments_lexer": "ipython3",
      "version": "3.8"
    },
    "orig_nbformat": 4
  },
  "nbformat": 4,
  "nbformat_minor": 4
}
